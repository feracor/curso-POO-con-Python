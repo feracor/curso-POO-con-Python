{
  "nbformat": 4,
  "nbformat_minor": 0,
  "metadata": {
    "colab": {
      "provenance": [],
      "authorship_tag": "ABX9TyPlzSJiMpAQBf57aX1ajvUh",
      "include_colab_link": true
    },
    "kernelspec": {
      "name": "python3",
      "display_name": "Python 3"
    },
    "language_info": {
      "name": "python"
    }
  },
  "cells": [
    {
      "cell_type": "markdown",
      "metadata": {
        "id": "view-in-github",
        "colab_type": "text"
      },
      "source": [
        "<a href=\"https://colab.research.google.com/github/feracor/curso-POO-con-Python/blob/main/Programaci%C3%B3n_Orientada_a_Objetos.ipynb\" target=\"_parent\"><img src=\"https://colab.research.google.com/assets/colab-badge.svg\" alt=\"Open In Colab\"/></a>"
      ]
    },
    {
      "cell_type": "markdown",
      "source": [
        "## **Tipos de datos abstractos y clases, Instancias**"
      ],
      "metadata": {
        "id": "0aMEXPkx8Tkq"
      }
    },
    {
      "cell_type": "code",
      "source": [
        "# Definicion de clase\n",
        "\n",
        "class <nombre-de-la-clase>(<super-clase>):\n",
        "\n",
        "  def __init__(self, <params>)\n",
        "\n",
        "  def <nombre-del-metodo>(self, <parametros>)\n",
        "      <exptrecion>"
      ],
      "metadata": {
        "id": "5_DxG8kr8658"
      },
      "execution_count": null,
      "outputs": []
    },
    {
      "cell_type": "code",
      "source": [
        "# Definicion\n",
        "\n",
        "class Persona:\n",
        "  def __init__(self, nombre, edad):\n",
        "    self.nombre = nombre\n",
        "    self.edad = edad\n",
        "  \n",
        "  def saluda(sefl, otra_persona):\n",
        "    return f'Hola {otra_persona.nombre}, me llamo {self.nombre}.'\n",
        "# Uso\n",
        "david = Persona(David, 35)\n",
        "erica = Persona(Erika, 32)\n",
        "\n",
        "david.saluda(erica)"
      ],
      "metadata": {
        "id": "rck8QVrE9dcq"
      },
      "execution_count": null,
      "outputs": []
    },
    {
      "cell_type": "markdown",
      "source": [
        "Clases son Moldes.\n",
        "Las intancias son los resultados obtenidos por las clases:"
      ],
      "metadata": {
        "id": "FZM4gTfb-7UO"
      }
    },
    {
      "cell_type": "code",
      "source": [
        "'''Clases son Moldes.\n",
        "Las intancias son los resultados obtenidos por las clases.\n",
        "  La convension apra variables privadas es un _ (guion bajo)\n",
        "'''"
      ],
      "metadata": {
        "id": "Rv1wq7F3-600",
        "outputId": "fc57eb96-af4c-4d45-b436-febb0ba8bb91",
        "colab": {
          "base_uri": "https://localhost:8080/",
          "height": 36
        }
      },
      "execution_count": 3,
      "outputs": [
        {
          "output_type": "execute_result",
          "data": {
            "text/plain": [
              "'Clases son Moldes.\\nLas intancias son los resultados obtenidos por las clases.\\n  La convension apra variables privadas es un _ (guion bajo)\\n'"
            ],
            "application/vnd.google.colaboratory.intrinsic+json": {
              "type": "string"
            }
          },
          "metadata": {},
          "execution_count": 3
        }
      ]
    },
    {
      "cell_type": "code",
      "source": [
        "class Coordenada: # inicializar clase\n",
        "  def __init__(self, a, b):   # Definir metodo\n",
        "    self.d = a                # Definir variables\n",
        "    self.y = b                # Definir variables\n",
        "  def distancia(self, otra_coordenada): # Definir instancia\n",
        "    x_diff = (self.d - otra_coordenada.d)**2  # Definir operacion de la instancia\n",
        "    y_diff = (self.y - otra_coordenada.y)**2  # Definir operacion de la instancia\n",
        "\n",
        "    return (x_diff + y_diff)**0.5\n",
        "\n",
        "if __name__ == '__main__':    #inicar el programa (si el archivo se ejecuta desde la terminar, se puede correr)\n",
        "  coord_1 = Coordenada(3, 30)   # Generar una instancia\n",
        "  coord_2 = Coordenada(4, 8)    # Generar otra instancia\n",
        "\n",
        "#  print(coord_1.distancia(coord_2))   # Distancia coord_1 a la instancia coord_2\n",
        "  print(isinstance(coord_2, Coordenada))  # Verificar instancia"
      ],
      "metadata": {
        "id": "RimozUCs-Gcv",
        "outputId": "1793db42-104c-48a0-e2de-1c874422b44b",
        "colab": {
          "base_uri": "https://localhost:8080/"
        }
      },
      "execution_count": 19,
      "outputs": [
        {
          "output_type": "stream",
          "name": "stdout",
          "text": [
            "True\n"
          ]
        }
      ]
    },
    {
      "cell_type": "code",
      "source": [],
      "metadata": {
        "id": "UkPijKcmBfK-"
      },
      "execution_count": null,
      "outputs": []
    }
  ]
}
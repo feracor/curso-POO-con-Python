{
  "nbformat": 4,
  "nbformat_minor": 0,
  "metadata": {
    "colab": {
      "provenance": [],
      "authorship_tag": "ABX9TyMZSx03lmn7bZLKkvLuJC2G",
      "include_colab_link": true
    },
    "kernelspec": {
      "name": "python3",
      "display_name": "Python 3"
    },
    "language_info": {
      "name": "python"
    }
  },
  "cells": [
    {
      "cell_type": "markdown",
      "metadata": {
        "id": "view-in-github",
        "colab_type": "text"
      },
      "source": [
        "<a href=\"https://colab.research.google.com/github/feracor/curso-POO-con-Python/blob/main/Programaci%C3%B3n_Orientada_a_Objetos.ipynb\" target=\"_parent\"><img src=\"https://colab.research.google.com/assets/colab-badge.svg\" alt=\"Open In Colab\"/></a>"
      ]
    },
    {
      "cell_type": "markdown",
      "source": [
        "## **Tipos de datos abstractos y clases, Instancias**"
      ],
      "metadata": {
        "id": "0aMEXPkx8Tkq"
      }
    },
    {
      "cell_type": "code",
      "source": [
        "# Definicion de clase\n",
        "\n",
        "class <nombre-de-la-clase>(<super-clase>):\n",
        "\n",
        "  def __init__(self, <params>)\n",
        "\n",
        "  def <nombre-del-metodo>(self, <parametros>)\n",
        "      <exptrecion>"
      ],
      "metadata": {
        "id": "5_DxG8kr8658"
      },
      "execution_count": null,
      "outputs": []
    },
    {
      "cell_type": "code",
      "source": [
        "# Definicion\n",
        "\n",
        "class Persona:\n",
        "  def __init__(self, nombre, edad):\n",
        "    self.nombre = nombre\n",
        "    self.edad = edad\n",
        "  \n",
        "  def saluda(sefl, otra_persona):\n",
        "    return f'Hola {otra_persona.nombre}, me llamo {self.nombre}.'\n",
        "# Uso\n",
        "david = Persona(David, 35)\n",
        "erica = Persona(Erika, 32)\n",
        "\n",
        "david.saluda(erica)"
      ],
      "metadata": {
        "id": "rck8QVrE9dcq"
      },
      "execution_count": null,
      "outputs": []
    },
    {
      "cell_type": "markdown",
      "source": [
        "Clases son Moldes.\n",
        "Las intancias son los resultados obtenidos por las clases:"
      ],
      "metadata": {
        "id": "FZM4gTfb-7UO"
      }
    },
    {
      "cell_type": "code",
      "source": [
        "'''Clases son Moldes.\n",
        "Las intancias son los resultados obtenidos por las clases.\n",
        "  La convension apra variables privadas es un _ (guion bajo)\n",
        "'''"
      ],
      "metadata": {
        "colab": {
          "base_uri": "https://localhost:8080/",
          "height": 36
        },
        "id": "Rv1wq7F3-600",
        "outputId": "fc57eb96-af4c-4d45-b436-febb0ba8bb91"
      },
      "execution_count": 3,
      "outputs": [
        {
          "output_type": "execute_result",
          "data": {
            "text/plain": [
              "'Clases son Moldes.\\nLas intancias son los resultados obtenidos por las clases.\\n  La convension apra variables privadas es un _ (guion bajo)\\n'"
            ],
            "application/vnd.google.colaboratory.intrinsic+json": {
              "type": "string"
            }
          },
          "metadata": {},
          "execution_count": 3
        }
      ]
    },
    {
      "cell_type": "code",
      "source": [
        "class Coordenada: # inicializar clase\n",
        "  def __init__(self, a, b):   # Definir metodo\n",
        "    self.d = a                # Definir variables\n",
        "    self.y = b                # Definir variables\n",
        "  def distancia(self, otra_coordenada): # Definir instancia\n",
        "    x_diff = (self.d - otra_coordenada.d)**2  # Definir operacion de la instancia\n",
        "    y_diff = (self.y - otra_coordenada.y)**2  # Definir operacion de la instancia\n",
        "\n",
        "    return (x_diff + y_diff)**0.5\n",
        "\n",
        "if __name__ == '__main__':    #inicar el programa (si el archivo se ejecuta desde la terminar, se puede correr)\n",
        "  coord_1 = Coordenada(3, 30)   # Generar una instancia\n",
        "  coord_2 = Coordenada(4, 8)    # Generar otra instancia\n",
        "\n",
        "#  print(coord_1.distancia(coord_2))   # Distancia coord_1 a la instancia coord_2\n",
        "  print(isinstance(coord_2, Coordenada))  # Verificar instancia"
      ],
      "metadata": {
        "colab": {
          "base_uri": "https://localhost:8080/"
        },
        "id": "RimozUCs-Gcv",
        "outputId": "1793db42-104c-48a0-e2de-1c874422b44b"
      },
      "execution_count": 19,
      "outputs": [
        {
          "output_type": "stream",
          "name": "stdout",
          "text": [
            "True\n"
          ]
        }
      ]
    },
    {
      "cell_type": "markdown",
      "source": [
        "# Decomposición"
      ],
      "metadata": {
        "id": "JdILHjENIAnA"
      }
    },
    {
      "cell_type": "markdown",
      "source": [
        "\n",
        "\n",
        "*   Partir un problema en problemas mas peque;os\n",
        "*   Las clases permiten crear mayores abstracciones en forma de componenetes\n",
        "*   Cada clase se encarga de una parte del problema y el programma se vuelve mas facil de entender\n",
        "\n",
        "\n"
      ],
      "metadata": {
        "id": "souGdqUTIQ6n"
      }
    },
    {
      "cell_type": "code",
      "source": [
        "# Ejemplo para subdividir un programa en partes peque;as  - DECOMPOSICION\n",
        "\n",
        "class Automovil:\n",
        "  def __init__(self, modelo, marca, color):\n",
        "    self.modelo = modelo\n",
        "    self.marca = marca\n",
        "    self.color = color\n",
        "    self._estado = 'en_reposo'\n",
        "    self._motor = Motor(cilindros = 4)  # que no tiene ningun valor\n",
        "  \n",
        "  def acelerar(self, tipo = 'despacio'):\n",
        "    if tipo == 'rapida':\n",
        "      self._motor.inyecta_gasolina(10)\n",
        "    else:\n",
        "      self._motor.inyecta_gasolina(3)\n",
        "    self._estado = 'en_movimiento'\n",
        "\n",
        "class Motor:\n",
        "  def __init__(self, cilindros, tipo = 'gasolina'):  # el parametro 'tipo = \"gasolina\"' es un paramatro por default\n",
        "    self.cilindros = cilindros\n",
        "    self.tipo = tipo\n",
        "    self._temperatura = 0\n",
        "  \n",
        "  def inyecta_gasolina(self, cantidad):\n",
        "    pass\n",
        "  "
      ],
      "metadata": {
        "id": "UkPijKcmBfK-"
      },
      "execution_count": 23,
      "outputs": []
    },
    {
      "cell_type": "markdown",
      "source": [
        "# Abstracción"
      ],
      "metadata": {
        "id": "zb5l3M9UWa4p"
      }
    },
    {
      "cell_type": "markdown",
      "source": [
        "\n",
        "\n",
        "\n",
        "*   Enfocarnos en la informacion relevante, separa la informacion relevante de lo no relevante\n",
        "*   Separar la informacion central de los detalles secundarios\n",
        "*   Podermos utilizar variables y metodos (privados o publidos)"
      ],
      "metadata": {
        "id": "Xb1chqiqWls0"
      }
    },
    {
      "cell_type": "code",
      "source": [
        " # Representar una lavadora\n",
        " \n",
        " class Lavadora:\n",
        "   def __init__(self):\n",
        "     pass\n",
        "   \n",
        "   def lavar(self, temperatura = 'caliente'): # Definir metodo\n",
        "     self._llenar_tanque_de_agua(temperatura) # Definir variables\n",
        "     self._anadir_jabon() # Definir variables\n",
        "     self._lavar() # Definir variables\n",
        "     self._centrifugar() # Definir variables\n",
        "  \n",
        "   def _llenar_tanque_de_agua(self, temperatura):   # Definir instancia\n",
        "     print(f'Llenando el tanque con agua {temperatura}')\n",
        "  \n",
        "   def _anadir_jabon(self):   # Definir instancia\n",
        "      print('Anadiendo jabon')\n",
        "  \n",
        "   def _lavar(self):   # Definir instancia\n",
        "      print('Lavando la ropa')\n",
        "  \n",
        "   def _centrifugar(self):   # Definir instancia\n",
        "     print('Centrifugando la ropa')\n",
        "\n",
        "if __name__ == \"__main__\":\n",
        "  lavadora = Lavadora()\n",
        "  lavadora.lavar()\n",
        "\n"
      ],
      "metadata": {
        "colab": {
          "base_uri": "https://localhost:8080/"
        },
        "id": "9GGW1eaoIq3R",
        "outputId": "9b6c71b1-d506-4601-81e3-c3ba91a8015f"
      },
      "execution_count": 27,
      "outputs": [
        {
          "output_type": "stream",
          "name": "stdout",
          "text": [
            "Llenando el tanque con agua caliente\n",
            "Anadiendo jabon\n",
            "Lavando la ropa\n",
            "Centrifugando la ropa\n"
          ]
        }
      ]
    },
    {
      "cell_type": "code",
      "source": [],
      "metadata": {
        "id": "k0UV3bT3YADb"
      },
      "execution_count": null,
      "outputs": []
    }
  ]
}